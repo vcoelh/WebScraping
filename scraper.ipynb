{
 "cells": [
  {
   "cell_type": "markdown",
   "metadata": {},
   "source": [
    "IMPORTS"
   ]
  },
  {
   "cell_type": "code",
   "execution_count": 16,
   "metadata": {},
   "outputs": [],
   "source": [
    "from datetime import datetime\n",
    "import re\n",
    "\n",
    "import pandas as pd\n",
    "from selenium.webdriver import Edge\n",
    "from selenium.webdriver.edge.options import Options"
   ]
  },
  {
   "cell_type": "markdown",
   "metadata": {},
   "source": [
    "START DRIVER"
   ]
  },
  {
   "cell_type": "code",
   "execution_count": 40,
   "metadata": {},
   "outputs": [],
   "source": [
    "def start():\n",
    "    option = Options()\n",
    "    option.add_argument('headless')\n",
    "    option.add_argument('start-maximized')\n",
    "    driver = Edge(options=option)\n",
    "    return driver"
   ]
  },
  {
   "cell_type": "markdown",
   "metadata": {},
   "source": [
    "NAMES"
   ]
  },
  {
   "cell_type": "code",
   "execution_count": 19,
   "metadata": {},
   "outputs": [],
   "source": [
    "def get_name(driver):\n",
    "    boxs  = driver.find_elements('css selector', '.product_pod a')\n",
    "    names = [name.text for name in boxs]\n",
    "    names = [name for name in names if name != '']\n",
    "    return names"
   ]
  },
  {
   "cell_type": "markdown",
   "metadata": {},
   "source": [
    "URLS"
   ]
  },
  {
   "cell_type": "code",
   "execution_count": 20,
   "metadata": {},
   "outputs": [],
   "source": [
    "def get_urls(driver):\n",
    "    text = driver.find_elements('css selector', '.product_pod a')\n",
    "    urls = [url.get_attribute('href') for url in text]\n",
    "    urls = list(dict.fromkeys(urls))\n",
    "    return urls"
   ]
  },
  {
   "cell_type": "markdown",
   "metadata": {},
   "source": [
    "PRICES"
   ]
  },
  {
   "cell_type": "code",
   "execution_count": 21,
   "metadata": {},
   "outputs": [],
   "source": [
    "def get_prices(driver):\n",
    "    texts = driver.find_elements('css selector', '.price_color')\n",
    "    prices = [re.findall(r'\\d+\\.?,?\\d+', value.text)[0] for value in texts]\n",
    "    return prices"
   ]
  },
  {
   "cell_type": "markdown",
   "metadata": {},
   "source": [
    "AVAILABILITY"
   ]
  },
  {
   "cell_type": "code",
   "execution_count": 22,
   "metadata": {},
   "outputs": [],
   "source": [
    "def get_availability(driver):\n",
    "    texts = driver.find_elements('css selector', '.availability')\n",
    "    availability  = [value.text for value in texts]\n",
    "    return availability"
   ]
  },
  {
   "cell_type": "code",
   "execution_count": 77,
   "metadata": {},
   "outputs": [],
   "source": [
    "def scraper():\n",
    "    dic = {\n",
    "        'names'       : [],\n",
    "        'prices'      : [],\n",
    "        'urls'        : [],\n",
    "        'availability': [],\n",
    "        }\n",
    "    driver = start()\n",
    "    for i in range(1,51):\n",
    "        url = f'https://books.toscrape.com/catalogue/page-{i}.html'\n",
    "        driver.get(url)\n",
    "        names        = get_name(driver)\n",
    "        prices       = get_prices(driver)\n",
    "        urls         = get_urls(driver)\n",
    "        availability = get_availability(driver)\n",
    "        \n",
    "        \n",
    "        dic['names'].extend(names)\n",
    "        dic['prices'].extend(prices)\n",
    "        dic['urls'].extend(urls)\n",
    "        dic['availability'].extend(availability)\n",
    "\n",
    "    df = pd.DataFrame(dic)\n",
    "    df['Data'] = datetime.now().strftime('%d/%m/%Y')\n",
    "    return df "
   ]
  },
  {
   "cell_type": "markdown",
   "metadata": {},
   "source": [
    "CALL THE FUNCTION"
   ]
  },
  {
   "cell_type": "code",
   "execution_count": 78,
   "metadata": {},
   "outputs": [],
   "source": [
    "if __name__ == '__main__':\n",
    "    dff = scraper()\n",
    "    dff.to_excel('planilha.xlsx', index=False)"
   ]
  }
 ],
 "metadata": {
  "kernelspec": {
   "display_name": "Python 3",
   "language": "python",
   "name": "python3"
  },
  "language_info": {
   "codemirror_mode": {
    "name": "ipython",
    "version": 3
   },
   "file_extension": ".py",
   "mimetype": "text/x-python",
   "name": "python",
   "nbconvert_exporter": "python",
   "pygments_lexer": "ipython3",
   "version": "3.11.2"
  }
 },
 "nbformat": 4,
 "nbformat_minor": 2
}
